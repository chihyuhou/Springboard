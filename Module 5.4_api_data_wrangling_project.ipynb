{
 "cells": [
  {
   "cell_type": "markdown",
   "metadata": {},
   "source": [
    "This exercise will require you to pull some data from the Qunadl API. Qaundl is currently the most widely used aggregator of financial market data."
   ]
  },
  {
   "cell_type": "markdown",
   "metadata": {},
   "source": [
    "As a first step, you will need to register a free account on the http://www.quandl.com website."
   ]
  },
  {
   "cell_type": "markdown",
   "metadata": {},
   "source": [
    "After you register, you will be provided with a unique API key, that you should store:"
   ]
  },
  {
   "cell_type": "code",
   "execution_count": 1,
   "metadata": {
    "collapsed": true
   },
   "outputs": [],
   "source": [
    "# Store the API key as a string - according to PEP8, constants are always named in all upper case\n",
    "API_KEY = 'oRZmGsZ48nmhzXBxPn1N'"
   ]
  },
  {
   "cell_type": "markdown",
   "metadata": {},
   "source": [
    "Qaundl has a large number of data sources, but, unfortunately, most of them require a Premium subscription. Still, there are also a good number of free datasets."
   ]
  },
  {
   "cell_type": "markdown",
   "metadata": {},
   "source": [
    "For this mini project, we will focus on equities data from the Frankfurt Stock Exhange (FSE), which is available for free. We'll try and analyze the stock prices of a company called Carl Zeiss Meditec, which manufactures tools for eye examinations, as well as medical lasers for laser eye surgery: https://www.zeiss.com/meditec/int/home.html. The company is listed under the stock ticker AFX_X."
   ]
  },
  {
   "cell_type": "markdown",
   "metadata": {},
   "source": [
    "You can find the detailed Quandl API instructions here: https://docs.quandl.com/docs/time-series"
   ]
  },
  {
   "cell_type": "markdown",
   "metadata": {},
   "source": [
    "While there is a dedicated Python package for connecting to the Quandl API, we would prefer that you use the *requests* package, which can be easily downloaded using *pip* or *conda*. You can find the documentation for the package here: http://docs.python-requests.org/en/master/ "
   ]
  },
  {
   "cell_type": "markdown",
   "metadata": {},
   "source": [
    "Finally, apart from the *requests* package, you are encouraged to not use any third party Python packages, such as *pandas*, and instead focus on what's available in the Python Standard Library (the *collections* module might come in handy: https://pymotw.com/3/collections/).\n",
    "Also, since you won't have access to DataFrames, you are encouraged to us Python's native data structures - preferably dictionaries, though some questions can also be answered using lists.\n",
    "You can read more on these data structures here: https://docs.python.org/3/tutorial/datastructures.html"
   ]
  },
  {
   "cell_type": "markdown",
   "metadata": {},
   "source": [
    "Keep in mind that the JSON responses you will be getting from the API map almost one-to-one to Python's dictionaries. Unfortunately, they can be very nested, so make sure you read up on indexing dictionaries in the documentation provided above."
   ]
  },
  {
   "cell_type": "code",
   "execution_count": 2,
   "metadata": {
    "collapsed": true
   },
   "outputs": [],
   "source": [
    "# First, import the relevant modules\n",
    "import requests\n"
   ]
  },
  {
   "cell_type": "code",
   "execution_count": 3,
   "metadata": {
    "collapsed": true
   },
   "outputs": [],
   "source": [
    "# Now, call the Quandl API and pull out a small sample of the data (only one day) to get a glimpse\n",
    "# into the JSON structure that will be returned\n",
    "\n",
    "# Use parameter limit = 1 to only return the latest date data\n",
    "url = \"https://www.quandl.com/api/v3/datasets/FSE/AFX_X/data.json?limit=1?api_key=\"+API_KEY"
   ]
  },
  {
   "cell_type": "code",
   "execution_count": 4,
   "metadata": {
    "collapsed": false
   },
   "outputs": [
    {
     "data": {
      "text/plain": [
       "{u'dataset_data': {u'collapse': None,\n",
       "  u'column_index': None,\n",
       "  u'column_names': [u'Date',\n",
       "   u'Open',\n",
       "   u'High',\n",
       "   u'Low',\n",
       "   u'Close',\n",
       "   u'Change',\n",
       "   u'Traded Volume',\n",
       "   u'Turnover',\n",
       "   u'Last Price of the Day',\n",
       "   u'Daily Traded Units',\n",
       "   u'Daily Turnover'],\n",
       "  u'data': [[u'2018-06-07',\n",
       "    None,\n",
       "    60.85,\n",
       "    59.65,\n",
       "    59.95,\n",
       "    None,\n",
       "    84215.0,\n",
       "    5062604.0,\n",
       "    None,\n",
       "    None,\n",
       "    None]],\n",
       "  u'end_date': u'2018-06-07',\n",
       "  u'frequency': u'daily',\n",
       "  u'limit': 1,\n",
       "  u'order': None,\n",
       "  u'start_date': u'2000-06-07',\n",
       "  u'transform': None}}"
      ]
     },
     "execution_count": 4,
     "metadata": {},
     "output_type": "execute_result"
    }
   ],
   "source": [
    "# Assign reponse object to a variable r and check the data by calling method .json()\n",
    "r = requests.get(url)\n",
    "r.json()"
   ]
  },
  {
   "cell_type": "code",
   "execution_count": 135,
   "metadata": {
    "collapsed": false
   },
   "outputs": [
    {
     "data": {
      "text/plain": [
       "'\\nA dictionary with a key : dataset_data\\nColumns \"column_names\" are structured as a list \\n'"
      ]
     },
     "execution_count": 135,
     "metadata": {},
     "output_type": "execute_result"
    }
   ],
   "source": [
    "# Inspect the JSON structure of the object you created, and take note of how nested it is,\n",
    "# as well as the overall structure\n",
    "'''\n",
    "A dictionary with a key : dataset_data\n",
    "Columns \"column_names\" are structured as a list \n",
    "'''"
   ]
  },
  {
   "cell_type": "markdown",
   "metadata": {},
   "source": [
    "These are your tasks for this mini project:\n",
    "\n",
    "1. Collect data from the Franfurt Stock Exchange, for the ticker AFX_X, for the whole year 2017 (keep in mind that the date format is YYYY-MM-DD).\n",
    "2. Convert the returned JSON object into a Python dictionary.\n",
    "3. Calculate what the highest and lowest opening prices were for the stock in this period.\n",
    "4. What was the largest change in any one day (based on High and Low price)?\n",
    "5. What was the largest change between any two days (based on Closing Price)?\n",
    "6. What was the average daily trading volume during this year?\n",
    "7. (Optional) What was the median trading volume during this year. (Note: you may need to implement your own function for calculating the median.)"
   ]
  },
  {
   "cell_type": "markdown",
   "metadata": {
    "collapsed": true
   },
   "source": [
    "## Q1: Collect data from the Franfurt Stock Exchange, for the ticker AFX_X, for the whole year 2017 (keep in mind that the date format is YYYY-MM-DD)."
   ]
  },
  {
   "cell_type": "code",
   "execution_count": 7,
   "metadata": {
    "collapsed": true
   },
   "outputs": [],
   "source": [
    "# Use start_date and end_date parameters to retrun data for 2017 only \n",
    "q1_url = \"https://www.quandl.com/api/v3/datasets/FSE/AFX_X/data.json?start_date=2017-01-01&end_date=2017-12-31?api_key=\"+API_KEY\n",
    "r1 = requests.get(q1_url)\n",
    "r1 = r1.json()\n",
    "\n"
   ]
  },
  {
   "cell_type": "code",
   "execution_count": 8,
   "metadata": {
    "collapsed": false
   },
   "outputs": [
    {
     "data": {
      "text/plain": [
       "[u'dataset_data']"
      ]
     },
     "execution_count": 8,
     "metadata": {},
     "output_type": "execute_result"
    }
   ],
   "source": [
    "# Find the key of the dict\n",
    "r1.keys()"
   ]
  },
  {
   "cell_type": "code",
   "execution_count": 143,
   "metadata": {
    "collapsed": false
   },
   "outputs": [
    {
     "name": "stdout",
     "output_type": "stream",
     "text": [
      "[(u'Date', u'2017-12-29'), (u'Open', 51.76), (u'High', 51.94), (u'Low', 51.45), (u'Close', 51.76), (u'Change', None), (u'Traded Volume', 34640.0), (u'Turnover', 1792304.0), (u'Last Price of the Day', None), (u'Daily Traded Units', None), (u'Daily Turnover', None)]\n"
     ]
    }
   ],
   "source": [
    "# Prepare data we need including column names and corresponding data\n",
    "\n",
    "column_name = r1[\"dataset_data\"][\"column_names\"]\n",
    "\n",
    "data = r1[\"dataset_data\"][\"data\"]\n",
    "\n",
    "print(zip(column_name, data[0]))"
   ]
  },
  {
   "cell_type": "markdown",
   "metadata": {},
   "source": [
    "## Q2: Convert the returned JSON object into a Python dictionary."
   ]
  },
  {
   "cell_type": "code",
   "execution_count": 47,
   "metadata": {
    "collapsed": false
   },
   "outputs": [],
   "source": [
    "from collections import defaultdict\n",
    "\n",
    "dataset = defaultdict(list)\n",
    "\n",
    "for i in column_name:\n",
    "    dataset[i]\n",
    "    index = column_name.index(i)\n",
    "    for x in data:\n",
    "        dataset[i].append(x[index])\n",
    "        \n",
    "        "
   ]
  },
  {
   "cell_type": "code",
   "execution_count": 48,
   "metadata": {
    "collapsed": true
   },
   "outputs": [],
   "source": [
    "# Just Use DataFrame to have a clear view of the dataset\n",
    "import pandas as pd\n",
    "df = pd.DataFrame(dataset)"
   ]
  },
  {
   "cell_type": "code",
   "execution_count": 49,
   "metadata": {
    "collapsed": false
   },
   "outputs": [
    {
     "data": {
      "text/html": [
       "<div>\n",
       "<table border=\"1\" class=\"dataframe\">\n",
       "  <thead>\n",
       "    <tr style=\"text-align: right;\">\n",
       "      <th></th>\n",
       "      <th>Change</th>\n",
       "      <th>Close</th>\n",
       "      <th>Daily Traded Units</th>\n",
       "      <th>Daily Turnover</th>\n",
       "      <th>Date</th>\n",
       "      <th>High</th>\n",
       "      <th>Last Price of the Day</th>\n",
       "      <th>Low</th>\n",
       "      <th>Open</th>\n",
       "      <th>Traded Volume</th>\n",
       "      <th>Turnover</th>\n",
       "    </tr>\n",
       "  </thead>\n",
       "  <tbody>\n",
       "    <tr>\n",
       "      <th>0</th>\n",
       "      <td>NaN</td>\n",
       "      <td>51.76</td>\n",
       "      <td>None</td>\n",
       "      <td>None</td>\n",
       "      <td>2017-12-29</td>\n",
       "      <td>51.94</td>\n",
       "      <td>None</td>\n",
       "      <td>51.45</td>\n",
       "      <td>51.76</td>\n",
       "      <td>34640.0</td>\n",
       "      <td>1792304.0</td>\n",
       "    </tr>\n",
       "    <tr>\n",
       "      <th>1</th>\n",
       "      <td>NaN</td>\n",
       "      <td>51.60</td>\n",
       "      <td>None</td>\n",
       "      <td>None</td>\n",
       "      <td>2017-12-28</td>\n",
       "      <td>51.82</td>\n",
       "      <td>None</td>\n",
       "      <td>51.43</td>\n",
       "      <td>51.65</td>\n",
       "      <td>40660.0</td>\n",
       "      <td>2099024.0</td>\n",
       "    </tr>\n",
       "    <tr>\n",
       "      <th>2</th>\n",
       "      <td>NaN</td>\n",
       "      <td>51.82</td>\n",
       "      <td>None</td>\n",
       "      <td>None</td>\n",
       "      <td>2017-12-27</td>\n",
       "      <td>51.89</td>\n",
       "      <td>None</td>\n",
       "      <td>50.76</td>\n",
       "      <td>51.45</td>\n",
       "      <td>57452.0</td>\n",
       "      <td>2957018.0</td>\n",
       "    </tr>\n",
       "    <tr>\n",
       "      <th>3</th>\n",
       "      <td>NaN</td>\n",
       "      <td>51.32</td>\n",
       "      <td>None</td>\n",
       "      <td>None</td>\n",
       "      <td>2017-12-22</td>\n",
       "      <td>51.50</td>\n",
       "      <td>None</td>\n",
       "      <td>50.92</td>\n",
       "      <td>51.05</td>\n",
       "      <td>71165.0</td>\n",
       "      <td>3641949.0</td>\n",
       "    </tr>\n",
       "    <tr>\n",
       "      <th>4</th>\n",
       "      <td>NaN</td>\n",
       "      <td>51.40</td>\n",
       "      <td>None</td>\n",
       "      <td>None</td>\n",
       "      <td>2017-12-21</td>\n",
       "      <td>51.52</td>\n",
       "      <td>None</td>\n",
       "      <td>50.90</td>\n",
       "      <td>51.16</td>\n",
       "      <td>120649.0</td>\n",
       "      <td>6179433.0</td>\n",
       "    </tr>\n",
       "  </tbody>\n",
       "</table>\n",
       "</div>"
      ],
      "text/plain": [
       "   Change  Close Daily Traded Units Daily Turnover        Date   High  \\\n",
       "0     NaN  51.76               None           None  2017-12-29  51.94   \n",
       "1     NaN  51.60               None           None  2017-12-28  51.82   \n",
       "2     NaN  51.82               None           None  2017-12-27  51.89   \n",
       "3     NaN  51.32               None           None  2017-12-22  51.50   \n",
       "4     NaN  51.40               None           None  2017-12-21  51.52   \n",
       "\n",
       "  Last Price of the Day    Low   Open  Traded Volume   Turnover  \n",
       "0                  None  51.45  51.76        34640.0  1792304.0  \n",
       "1                  None  51.43  51.65        40660.0  2099024.0  \n",
       "2                  None  50.76  51.45        57452.0  2957018.0  \n",
       "3                  None  50.92  51.05        71165.0  3641949.0  \n",
       "4                  None  50.90  51.16       120649.0  6179433.0  "
      ]
     },
     "execution_count": 49,
     "metadata": {},
     "output_type": "execute_result"
    }
   ],
   "source": [
    "df.head()"
   ]
  },
  {
   "cell_type": "code",
   "execution_count": 84,
   "metadata": {
    "collapsed": false
   },
   "outputs": [
    {
     "name": "stdout",
     "output_type": "stream",
     "text": [
      "<class 'pandas.core.frame.DataFrame'>\n",
      "RangeIndex: 255 entries, 0 to 254\n",
      "Data columns (total 11 columns):\n",
      "Change                   1 non-null float64\n",
      "Close                    255 non-null float64\n",
      "Daily Traded Units       0 non-null object\n",
      "Daily Turnover           0 non-null object\n",
      "Date                     255 non-null object\n",
      "High                     255 non-null float64\n",
      "Last Price of the Day    0 non-null object\n",
      "Low                      255 non-null float64\n",
      "Open                     252 non-null float64\n",
      "Traded Volume            255 non-null float64\n",
      "Turnover                 255 non-null float64\n",
      "dtypes: float64(7), object(4)\n",
      "memory usage: 22.0+ KB\n"
     ]
    }
   ],
   "source": [
    "df.info()"
   ]
  },
  {
   "cell_type": "markdown",
   "metadata": {},
   "source": [
    "## Q3 : Calculate what the highest and lowest opening prices were for the stock in this period."
   ]
  },
  {
   "cell_type": "code",
   "execution_count": 68,
   "metadata": {
    "collapsed": false
   },
   "outputs": [
    {
     "name": "stdout",
     "output_type": "stream",
     "text": [
      "Highest Opening Price : 53.11\n",
      "Lowest Opening Price : None\n"
     ]
    }
   ],
   "source": [
    "highest = max(dataset[\"Open\"])\n",
    "lowest = min(dataset[\"Open\"])\n",
    "\n",
    "print(\"Highest Opening Price : \" + str(highest) + \"\\n\" + \"Lowest Opening Price : \" + str(lowest))"
   ]
  },
  {
   "cell_type": "markdown",
   "metadata": {},
   "source": [
    "## Q4 : What was the largest change in any one day (based on High and Low price)?"
   ]
  },
  {
   "cell_type": "code",
   "execution_count": 75,
   "metadata": {
    "collapsed": false
   },
   "outputs": [],
   "source": [
    "import numpy as np\n",
    "high = np.array(dataset[\"High\"])\n",
    "low = np.array(dataset[\"Low\"])\n",
    "daily_change = high - low"
   ]
  },
  {
   "cell_type": "code",
   "execution_count": 83,
   "metadata": {
    "collapsed": false
   },
   "outputs": [
    {
     "name": "stdout",
     "output_type": "stream",
     "text": [
      "Largest Change in any one day : 2.81\n"
     ]
    }
   ],
   "source": [
    "print(\"Largest Change in any one day : \" + str(max(daily_change)))"
   ]
  },
  {
   "cell_type": "markdown",
   "metadata": {},
   "source": [
    "## Q5 : What was the largest change between any two days (based on Closing Price)?"
   ]
  },
  {
   "cell_type": "code",
   "execution_count": 118,
   "metadata": {
    "collapsed": false
   },
   "outputs": [],
   "source": [
    "# Solution 1 : loop\n",
    "close = dataset[\"Close\"]\n",
    "diff = []\n",
    "\n",
    "for i in range(len(dataset[\"Close\"])-1):\n",
    "    diff.append(close[i+1] - close[i])"
   ]
  },
  {
   "cell_type": "code",
   "execution_count": 119,
   "metadata": {
    "collapsed": false
   },
   "outputs": [
    {
     "name": "stdout",
     "output_type": "stream",
     "text": [
      "Largest Closing Price Difference : 2.56\n"
     ]
    }
   ],
   "source": [
    "largest__diff = max(diff)\n",
    "print(\"Largest Closing Price Difference : \" + str(largest__diff))"
   ]
  },
  {
   "cell_type": "code",
   "execution_count": 120,
   "metadata": {
    "collapsed": false
   },
   "outputs": [
    {
     "data": {
      "text/plain": [
       "2.5599999999999952"
      ]
     },
     "execution_count": 120,
     "metadata": {},
     "output_type": "execute_result"
    }
   ],
   "source": [
    "# Solution 2 : numpy diff function\n",
    "\n",
    "np_diff = np.diff(close)\n",
    "\n",
    "max(np_diff)\n"
   ]
  },
  {
   "cell_type": "markdown",
   "metadata": {},
   "source": [
    "## Q6 : What was the average daily trading volume during this year?"
   ]
  },
  {
   "cell_type": "code",
   "execution_count": 101,
   "metadata": {
    "collapsed": false
   },
   "outputs": [
    {
     "name": "stdout",
     "output_type": "stream",
     "text": [
      "Average Daily Treading Volume : 89124.3372549\n"
     ]
    }
   ],
   "source": [
    "avg_vol = np.average(dataset[\"Traded Volume\"])\n",
    "print(\"Average Daily Treading Volume : \" + str(avg_vol))"
   ]
  },
  {
   "cell_type": "markdown",
   "metadata": {},
   "source": [
    "## Q7 : Optional) What was the median trading volume during this year. (Note: you may need to implement your own function for calculating the median.)"
   ]
  },
  {
   "cell_type": "code",
   "execution_count": 130,
   "metadata": {
    "collapsed": false
   },
   "outputs": [],
   "source": [
    "\n",
    "def finding_median(x):\n",
    "    col = dataset[x]\n",
    "    sorted_col = sorted(col)\n",
    "    if len(sorted_col) % 2 == 0:\n",
    "        index = len(sorted_col) / 2\n",
    "        median = (sorted_col[index] + sorted_col[index + 1]) / 2  \n",
    "    else:\n",
    "        index = int(round(len(sorted_col) / 2))\n",
    "        median = sorted_col[index]\n",
    "        \n",
    "    return median\n",
    "\n",
    "        "
   ]
  },
  {
   "cell_type": "code",
   "execution_count": 131,
   "metadata": {
    "collapsed": false
   },
   "outputs": [
    {
     "data": {
      "text/plain": [
       "76286.0"
      ]
     },
     "execution_count": 131,
     "metadata": {},
     "output_type": "execute_result"
    }
   ],
   "source": [
    "finding_median(\"Traded Volume\")"
   ]
  },
  {
   "cell_type": "code",
   "execution_count": 134,
   "metadata": {
    "collapsed": false
   },
   "outputs": [
    {
     "data": {
      "text/plain": [
       "76286.0"
      ]
     },
     "execution_count": 134,
     "metadata": {},
     "output_type": "execute_result"
    }
   ],
   "source": [
    "# QA \n",
    "sorted(dataset[\"Traded Volume\"])[127]"
   ]
  }
 ],
 "metadata": {
  "kernelspec": {
   "display_name": "Python 2",
   "language": "python",
   "name": "python2"
  },
  "language_info": {
   "codemirror_mode": {
    "name": "ipython",
    "version": 2
   },
   "file_extension": ".py",
   "mimetype": "text/x-python",
   "name": "python",
   "nbconvert_exporter": "python",
   "pygments_lexer": "ipython2",
   "version": "2.7.12"
  }
 },
 "nbformat": 4,
 "nbformat_minor": 2
}
